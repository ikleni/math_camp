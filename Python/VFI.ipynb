{
 "cells": [
  {
   "cell_type": "code",
   "execution_count": 8,
   "metadata": {},
   "outputs": [],
   "source": [
    "import numpy as np\n",
    "import pandas as pd\n",
    "from scipy.optimize import minimize"
   ]
  },
  {
   "cell_type": "code",
   "execution_count": 9,
   "metadata": {},
   "outputs": [],
   "source": [
    "# solving VFI\n",
    "\n",
    "# placeholders, global objects\n",
    "\n",
    "Toler = 0.5\n",
    "State = np.arange(1,6)\n",
    "# transition process \n",
    "F0=np.array([[0,1,0,0,0],[0,0,1,0,0],[0,0,0,1,0],[0,0,0,0,1],[0,0,0,0,1]])\n",
    "F1=np.array([[1,0,0,0,0],[1,0,0,0,0],[1,0,0,0,0],[1,0,0,0,0],[1,0,0,0,0]])\n",
    "\n",
    "global_args = (Toler, State, F0, F1)\n",
    "\n",
    "# some parameter values\n",
    "theta = -1\n",
    "R = -3 \n",
    "\n",
    "\n",
    "\n",
    "def VFI(theta, R, args = global_args):\n",
    "    \n",
    "    Toler, State, F0, F1 = global_args\n",
    "    n = 0\n",
    "    \n",
    "    V1 = np.zeros((5,2))\n",
    "    \n",
    "    V0 = np.zeros((5,2))\n",
    "    \n",
    "    # Doing Value Function Iteration\n",
    "    while np.abs(Toler)>0.0005:\n",
    "        \n",
    "        V1[:,0]= theta*State + 0.9*F0@np.log(np.sum(np.exp(V0),1))\n",
    "        \n",
    "        V1[:,1]= R + 0.9*F1@np.log(np.sum(np.exp(V0),1))\n",
    "        \n",
    "        Toler=np.max(np.max(np.abs(V1-V0)))\n",
    "        V0=V1\n",
    "        n +=1\n",
    "        if n >= 10000:\n",
    "            print('No Convergence')\n",
    "            break\n",
    "        \n",
    "    return V0\n",
    "\n",
    "data = pd.read_csv('data/rust.txt', sep=\" \", header=None, names = ['State', 'Decision'])\n",
    "data = data.groupby(['State','Decision'], as_index = False).size().values\n",
    "K = data.shape[0]\n",
    "\n",
    "\n"
   ]
  },
  {
   "cell_type": "code",
   "execution_count": 10,
   "metadata": {},
   "outputs": [
    {
     "data": {
      "text/plain": [
       "array([[  1,   0, 172],\n",
       "       [  1,   1,  24],\n",
       "       [  2,   0, 122],\n",
       "       [  2,   1,  74],\n",
       "       [  3,   0,  59],\n",
       "       [  3,   1, 166],\n",
       "       [  4,   0,  28],\n",
       "       [  4,   1, 178],\n",
       "       [  5,   0,   9],\n",
       "       [  5,   1, 168]])"
      ]
     },
     "execution_count": 10,
     "metadata": {},
     "output_type": "execute_result"
    }
   ],
   "source": [
    "data"
   ]
  },
  {
   "cell_type": "code",
   "execution_count": 11,
   "metadata": {},
   "outputs": [],
   "source": [
    "def LL(params):\n",
    "\n",
    "    theta, R = params[0], params[1]\n",
    "    \n",
    "    V = VFI(theta, R)\n",
    "    L = 0\n",
    "    \n",
    "    for j in range(K):\n",
    "        a, i, n = data[j][0],data[j][1],data[j][2]\n",
    "        L += n*np.log( (np.exp(V[a-1,i]))/(np.exp(V[a-1,i]) + np.exp(V[a-1,1-i])) + 1e-30)\n",
    "    \n",
    "    return -L"
   ]
  },
  {
   "cell_type": "code",
   "execution_count": null,
   "metadata": {},
   "outputs": [],
   "source": []
  },
  {
   "cell_type": "code",
   "execution_count": 12,
   "metadata": {},
   "outputs": [
    {
     "data": {
      "text/plain": [
       "-0.7915423229149594"
      ]
     },
     "execution_count": 12,
     "metadata": {},
     "output_type": "execute_result"
    }
   ],
   "source": [
    "# Q4.1\n",
    "Res = VFI(-1,-3)\n",
    "\n",
    "Res[1][1] - Res[1][0]"
   ]
  },
  {
   "cell_type": "code",
   "execution_count": 13,
   "metadata": {},
   "outputs": [
    {
     "data": {
      "text/plain": [
       "-1.3062606441574527"
      ]
     },
     "execution_count": 13,
     "metadata": {},
     "output_type": "execute_result"
    }
   ],
   "source": [
    "# Q4.2\n",
    "\n",
    "# Res[3][1] + 1.5 - Res[3][0] - 1\n",
    "# at those e the firm chooses to replace so we use replacement specific value\n",
    "\n",
    "Res[3][1] - R"
   ]
  },
  {
   "cell_type": "code",
   "execution_count": 14,
   "metadata": {},
   "outputs": [
    {
     "name": "stdout",
     "output_type": "stream",
     "text": [
      "Optimization terminated successfully.\n",
      "         Current function value: 450.808896\n",
      "         Iterations: 47\n",
      "         Function evaluations: 89\n"
     ]
    },
    {
     "data": {
      "text/plain": [
       " final_simplex: (array([[-1.01958224, -2.69594311],\n",
       "       [-1.01962479, -2.6960386 ],\n",
       "       [-1.01960052, -2.69594211]]), array([450.80889571, 450.80889576, 450.80889589]))\n",
       "           fun: 450.80889570763276\n",
       "       message: 'Optimization terminated successfully.'\n",
       "          nfev: 89\n",
       "           nit: 47\n",
       "        status: 0\n",
       "       success: True\n",
       "             x: array([-1.01958224, -2.69594311])"
      ]
     },
     "execution_count": 14,
     "metadata": {},
     "output_type": "execute_result"
    }
   ],
   "source": [
    "# Q5\n",
    "res = minimize(LL, [-2,-3], method='Nelder-Mead', options={'disp': True})\n",
    "\n",
    "res"
   ]
  },
  {
   "cell_type": "code",
   "execution_count": 7,
   "metadata": {},
   "outputs": [
    {
     "data": {
      "text/plain": [
       "array([0.06928203, 0.18439089])"
      ]
     },
     "execution_count": 7,
     "metadata": {},
     "output_type": "execute_result"
    }
   ],
   "source": [
    "# standard errors \n",
    "np.sqrt([0.0048, 0.034])"
   ]
  },
  {
   "cell_type": "code",
   "execution_count": null,
   "metadata": {},
   "outputs": [],
   "source": []
  }
 ],
 "metadata": {
  "kernelspec": {
   "display_name": "Python 3",
   "language": "python",
   "name": "python3"
  },
  "language_info": {
   "codemirror_mode": {
    "name": "ipython",
    "version": 3
   },
   "file_extension": ".py",
   "mimetype": "text/x-python",
   "name": "python",
   "nbconvert_exporter": "python",
   "pygments_lexer": "ipython3",
   "version": "3.8.5"
  }
 },
 "nbformat": 4,
 "nbformat_minor": 4
}
